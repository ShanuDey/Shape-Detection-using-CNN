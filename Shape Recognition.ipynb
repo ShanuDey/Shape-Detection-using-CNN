{
 "cells": [
  {
   "cell_type": "markdown",
   "metadata": {},
   "source": [
    "## Import library"
   ]
  },
  {
   "cell_type": "code",
   "execution_count": 1,
   "metadata": {},
   "outputs": [
    {
     "name": "stderr",
     "output_type": "stream",
     "text": [
      "Using TensorFlow backend.\n"
     ]
    }
   ],
   "source": [
    "import cv2\n",
    "import numpy as np\n",
    "import pandas as pd\n",
    "from keras.models import Sequential\n",
    "from keras.layers import Conv2D, Flatten, Dropout, Dense\n",
    "from keras.layers.convolutional import MaxPooling2D\n",
    "from matplotlib import pyplot as plt\n",
    "from keras.utils import np_utils\n",
    "%matplotlib inline"
   ]
  },
  {
   "cell_type": "markdown",
   "metadata": {},
   "source": [
    "## Load images"
   ]
  },
  {
   "cell_type": "code",
   "execution_count": 2,
   "metadata": {},
   "outputs": [
    {
     "data": {
      "text/html": [
       "<div>\n",
       "<style scoped>\n",
       "    .dataframe tbody tr th:only-of-type {\n",
       "        vertical-align: middle;\n",
       "    }\n",
       "\n",
       "    .dataframe tbody tr th {\n",
       "        vertical-align: top;\n",
       "    }\n",
       "\n",
       "    .dataframe thead th {\n",
       "        text-align: right;\n",
       "    }\n",
       "</style>\n",
       "<table border=\"1\" class=\"dataframe\">\n",
       "  <thead>\n",
       "    <tr style=\"text-align: right;\">\n",
       "      <th></th>\n",
       "      <th>image</th>\n",
       "      <th>label</th>\n",
       "    </tr>\n",
       "  </thead>\n",
       "  <tbody>\n",
       "    <tr>\n",
       "      <th>0</th>\n",
       "      <td>shapes/square/2189.png</td>\n",
       "      <td>square</td>\n",
       "    </tr>\n",
       "    <tr>\n",
       "      <th>1</th>\n",
       "      <td>shapes/square/3166.png</td>\n",
       "      <td>square</td>\n",
       "    </tr>\n",
       "    <tr>\n",
       "      <th>2</th>\n",
       "      <td>shapes/square/3049.png</td>\n",
       "      <td>square</td>\n",
       "    </tr>\n",
       "    <tr>\n",
       "      <th>3</th>\n",
       "      <td>shapes/square/3676.png</td>\n",
       "      <td>square</td>\n",
       "    </tr>\n",
       "    <tr>\n",
       "      <th>4</th>\n",
       "      <td>shapes/square/2767.png</td>\n",
       "      <td>square</td>\n",
       "    </tr>\n",
       "  </tbody>\n",
       "</table>\n",
       "</div>"
      ],
      "text/plain": [
       "                    image   label\n",
       "0  shapes/square/2189.png  square\n",
       "1  shapes/square/3166.png  square\n",
       "2  shapes/square/3049.png  square\n",
       "3  shapes/square/3676.png  square\n",
       "4  shapes/square/2767.png  square"
      ]
     },
     "execution_count": 2,
     "metadata": {},
     "output_type": "execute_result"
    }
   ],
   "source": [
    "csv_path = 'shapes/summary.csv'\n",
    "dataset = pd.read_csv(csv_path)\n",
    "dataset.head()"
   ]
  },
  {
   "cell_type": "code",
   "execution_count": 3,
   "metadata": {},
   "outputs": [
    {
     "data": {
      "text/plain": [
       "array([['shapes/square/2189.png', 'square'],\n",
       "       ['shapes/square/3166.png', 'square'],\n",
       "       ['shapes/square/3049.png', 'square'],\n",
       "       ['shapes/square/3676.png', 'square'],\n",
       "       ['shapes/square/2767.png', 'square']], dtype=object)"
      ]
     },
     "execution_count": 3,
     "metadata": {},
     "output_type": "execute_result"
    }
   ],
   "source": [
    "img_dataset = np.array(dataset)\n",
    "img_dataset[:5]"
   ]
  },
  {
   "cell_type": "markdown",
   "metadata": {},
   "source": [
    "## Check images"
   ]
  },
  {
   "cell_type": "code",
   "execution_count": 4,
   "metadata": {},
   "outputs": [
    {
     "name": "stdout",
     "output_type": "stream",
     "text": [
      "['shapes/square/2189.png' 'square']\n"
     ]
    },
    {
     "data": {
      "text/plain": [
       "(200, 200, 3)"
      ]
     },
     "execution_count": 4,
     "metadata": {},
     "output_type": "execute_result"
    },
    {
     "data": {
      "image/png": "[encoded data removed]",
      "text/plain": [
       "<Figure size 432x288 with 1 Axes>"
      ]
     },
     "metadata": {
      "needs_background": "light"
     },
     "output_type": "display_data"
    }
   ],
   "source": [
    "print(img_dataset[0])\n",
    "\n",
    "frame = cv2.imread(img_dataset[0][0])\n",
    "\n",
    "plt.imshow(frame)\n",
    "\n",
    "frame.shape\n"
   ]
  },
  {
   "cell_type": "code",
   "execution_count": 5,
   "metadata": {
    "scrolled": true
   },
   "outputs": [
    {
     "data": {
      "image/png": "[encoded data removed]",
      "text/plain": [
       "<Figure size 432x288 with 9 Axes>"
      ]
     },
     "metadata": {
      "needs_background": "light"
     },
     "output_type": "display_data"
    }
   ],
   "source": [
    "from math import sqrt\n",
    "n = 9\n",
    "for i in range(n):\n",
    "    data = cv2.imread(img_dataset[i][0])\n",
    "    plt.subplot(sqrt(n),sqrt(n),i+1)\n",
    "    plt.imshow(data)\n",
    "    plt.title(img_dataset[i][1])\n",
    "plt.show()"
   ]
  },
  {
   "cell_type": "markdown",
   "metadata": {},
   "source": [
    "## train test split"
   ]
  },
  {
   "cell_type": "code",
   "execution_count": 6,
   "metadata": {},
   "outputs": [
    {
     "name": "stdout",
     "output_type": "stream",
     "text": [
      "(11976, 1) (11976, 1)\n"
     ]
    }
   ],
   "source": [
    "from sklearn.model_selection import train_test_split\n",
    "x_train,x_test,y_train,y_test = train_test_split(dataset[['image']],dataset[['label']],test_size=0.2,random_state = 42)\n",
    "print(x_train.shape,y_train.shape)"
   ]
  },
  {
   "cell_type": "markdown",
   "metadata": {},
   "source": [
    "## normalize"
   ]
  },
  {
   "cell_type": "code",
   "execution_count": 7,
   "metadata": {},
   "outputs": [],
   "source": [
    "def convertToImg(x_train):\n",
    "    x_train_arr = x_train.values\n",
    "    x_train = np.zeros((x_train_arr.shape[0],28,28))\n",
    "    for i in range(x_train_arr.shape[0]):\n",
    "        x_train[i] = cv2.resize(cv2.imread(x_train_arr[i][0],cv2.IMREAD_GRAYSCALE),(28,28))\n",
    "    print(\"shape=\",x_train.shape)\n",
    "    return x_train"
   ]
  },
  {
   "cell_type": "code",
   "execution_count": 8,
   "metadata": {},
   "outputs": [
    {
     "name": "stdout",
     "output_type": "stream",
     "text": [
      "shape= (11976, 28, 28)\n",
      "shape= (2994, 28, 28)\n"
     ]
    }
   ],
   "source": [
    "x_train = convertToImg(x_train)\n",
    "x_test = convertToImg(x_test)"
   ]
  },
  {
   "cell_type": "code",
   "execution_count": 9,
   "metadata": {},
   "outputs": [
    {
     "data": {
      "text/plain": [
       "<matplotlib.image.AxesImage at 0x7fefc1c6ecf8>"
      ]
     },
     "execution_count": 9,
     "metadata": {},
     "output_type": "execute_result"
    },
    {
     "data": {
      "image/png": "[encoded data removed]",
      "text/plain": [
       "<Figure size 432x288 with 1 Axes>"
      ]
     },
     "metadata": {
      "needs_background": "light"
     },
     "output_type": "display_data"
    }
   ],
   "source": [
    "plt.imshow(x_train[1000])"
   ]
  },
  {
   "cell_type": "code",
   "execution_count": 10,
   "metadata": {},
   "outputs": [
    {
     "name": "stdout",
     "output_type": "stream",
     "text": [
      "x_train shape =  (11976, 28, 28, 1)\n",
      "x_test shape =  (2994, 28, 28, 1)\n"
     ]
    }
   ],
   "source": [
    "#noramlize \n",
    "x_train = x_train.reshape(x_train.shape[0],28,28,1).astype('float32')\n",
    "x_test = x_test.reshape(x_test.shape[0],28,28,1).astype('float32')\n",
    "print(\"x_train shape = \",x_train.shape)\n",
    "print(\"x_test shape = \",x_test.shape)\n",
    "\n",
    "x_train = x_train/255\n",
    "x_test = x_test/255"
   ]
  },
  {
   "cell_type": "code",
   "execution_count": 11,
   "metadata": {},
   "outputs": [
    {
     "name": "stdout",
     "output_type": "stream",
     "text": [
      "(11976, 4)\n"
     ]
    },
    {
     "name": "stderr",
     "output_type": "stream",
     "text": [
      "/home/shanu/Documents/PyCharmProjects/test/venv/lib/python3.6/site-packages/sklearn/preprocessing/label.py:235: DataConversionWarning: A column-vector y was passed when a 1d array was expected. Please change the shape of y to (n_samples, ), for example using ravel().\n",
      "  y = column_or_1d(y, warn=True)\n"
     ]
    },
    {
     "data": {
      "text/plain": [
       "4"
      ]
     },
     "execution_count": 11,
     "metadata": {},
     "output_type": "execute_result"
    }
   ],
   "source": [
    "from sklearn.preprocessing import LabelEncoder\n",
    "le = LabelEncoder()\n",
    "y_train = le.fit_transform(y_train)\n",
    "y_test = le.fit_transform(y_test)\n",
    "\n",
    "y_train = np_utils.to_categorical(y_train)\n",
    "y_test = np_utils.to_categorical(y_test)\n",
    "\n",
    "print(y_train.shape)\n",
    "number_of_classes = y_train.shape[1] \n",
    "number_of_classes\n",
    "\n",
    "\n",
    "#y_train = np_utils.to_categorical(y_train)\n",
    "#y_test = np_utils.to_categorical(y_test)"
   ]
  },
  {
   "cell_type": "code",
   "execution_count": 12,
   "metadata": {},
   "outputs": [
    {
     "data": {
      "image/png": "[encoded data removed]",
      "text/plain": [
       "<Figure size 432x288 with 9 Axes>"
      ]
     },
     "metadata": {
      "needs_background": "light"
     },
     "output_type": "display_data"
    }
   ],
   "source": [
    "from math import sqrt\n",
    "n = 9\n",
    "for i in range(n):\n",
    "    plt.subplot(sqrt(n),sqrt(n),i+1)\n",
    "    plt.imshow(x_train[i].reshape(28,28))\n",
    "    plt.title(np.argmax(y_train[i]))\n",
    "plt.show()"
   ]
  },
  {
   "cell_type": "markdown",
   "metadata": {},
   "source": [
    "## define model"
   ]
  },
  {
   "cell_type": "code",
   "execution_count": 13,
   "metadata": {},
   "outputs": [],
   "source": [
    "def baseline_model():\n",
    "    #crete model\n",
    "    model = Sequential()\n",
    "    model.add(Conv2D(32,(5,5),input_shape = (28,28,1),activation = 'relu'))\n",
    "    model.add(MaxPooling2D(pool_size = (2,2)))\n",
    "    model.add(Dropout(0.2))\n",
    "    model.add(Flatten())\n",
    "    model.add(Dense(128,activation='relu'))\n",
    "    model.add(Dense(number_of_classes,activation='softmax'))\n",
    "    \n",
    "    #compile model\n",
    "    model.compile(loss='categorical_crossentropy',optimizer='adam',metrics = ['accuracy'])\n",
    "    \n",
    "    return model"
   ]
  },
  {
   "cell_type": "markdown",
   "metadata": {},
   "source": [
    "## evaluate model"
   ]
  },
  {
   "cell_type": "code",
   "execution_count": 14,
   "metadata": {},
   "outputs": [
    {
     "name": "stdout",
     "output_type": "stream",
     "text": [
      "WARNING:tensorflow:From /home/shanu/Documents/PyCharmProjects/test/venv/lib/python3.6/site-packages/tensorflow/python/framework/op_def_library.py:263: colocate_with (from tensorflow.python.framework.ops) is deprecated and will be removed in a future version.\n",
      "Instructions for updating:\n",
      "Colocations handled automatically by placer.\n",
      "WARNING:tensorflow:From /home/shanu/Documents/PyCharmProjects/test/venv/lib/python3.6/site-packages/keras/backend/tensorflow_backend.py:3445: calling dropout (from tensorflow.python.ops.nn_ops) with keep_prob is deprecated and will be removed in a future version.\n",
      "Instructions for updating:\n",
      "Please use `rate` instead of `keep_prob`. Rate should be set to `rate = 1 - keep_prob`.\n",
      "_________________________________________________________________\n",
      "Layer (type)                 Output Shape              Param #   \n",
      "=================================================================\n",
      "conv2d_1 (Conv2D)            (None, 24, 24, 32)        832       \n",
      "_________________________________________________________________\n",
      "max_pooling2d_1 (MaxPooling2 (None, 12, 12, 32)        0         \n",
      "_________________________________________________________________\n",
      "dropout_1 (Dropout)          (None, 12, 12, 32)        0         \n",
      "_________________________________________________________________\n",
      "flatten_1 (Flatten)          (None, 4608)              0         \n",
      "_________________________________________________________________\n",
      "dense_1 (Dense)              (None, 128)               589952    \n",
      "_________________________________________________________________\n",
      "dense_2 (Dense)              (None, 4)                 516       \n",
      "=================================================================\n",
      "Total params: 591,300\n",
      "Trainable params: 591,300\n",
      "Non-trainable params: 0\n",
      "_________________________________________________________________\n",
      "WARNING:tensorflow:From /home/shanu/Documents/PyCharmProjects/test/venv/lib/python3.6/site-packages/tensorflow/python/ops/math_ops.py:3066: to_int32 (from tensorflow.python.ops.math_ops) is deprecated and will be removed in a future version.\n",
      "Instructions for updating:\n",
      "Use tf.cast instead.\n",
      "Train on 11976 samples, validate on 2994 samples\n",
      "Epoch 1/10\n",
      " - 9s - loss: 0.2081 - acc: 0.9374 - val_loss: 0.0196 - val_acc: 0.9983\n",
      "Epoch 2/10\n",
      " - 8s - loss: 0.0163 - acc: 0.9981 - val_loss: 0.0065 - val_acc: 0.9997\n",
      "Epoch 3/10\n",
      " - 9s - loss: 0.0072 - acc: 0.9990 - val_loss: 0.0033 - val_acc: 0.9997\n",
      "Epoch 4/10\n",
      " - 9s - loss: 0.0037 - acc: 0.9994 - val_loss: 0.0016 - val_acc: 1.0000\n",
      "Epoch 5/10\n",
      " - 9s - loss: 0.0024 - acc: 0.9997 - val_loss: 0.0015 - val_acc: 0.9993\n",
      "Epoch 6/10\n",
      " - 9s - loss: 0.0013 - acc: 0.9999 - val_loss: 5.9888e-04 - val_acc: 1.0000\n",
      "Epoch 7/10\n",
      " - 8s - loss: 7.9893e-04 - acc: 0.9999 - val_loss: 5.3380e-04 - val_acc: 1.0000\n",
      "Epoch 8/10\n",
      " - 8s - loss: 5.5669e-04 - acc: 1.0000 - val_loss: 2.5286e-04 - val_acc: 1.0000\n",
      "Epoch 9/10\n",
      " - 8s - loss: 5.6871e-04 - acc: 1.0000 - val_loss: 2.8376e-04 - val_acc: 1.0000\n",
      "Epoch 10/10\n",
      " - 9s - loss: 4.4320e-04 - acc: 1.0000 - val_loss: 1.5383e-04 - val_acc: 1.0000\n"
     ]
    },
    {
     "data": {
      "text/plain": [
       "[0.00015383114959032423, 1.0]"
      ]
     },
     "execution_count": 14,
     "metadata": {},
     "output_type": "execute_result"
    }
   ],
   "source": [
    "model = baseline_model()\n",
    "model.summary()\n",
    "\n",
    "model.fit(x_train,y_train,validation_data =(x_test,y_test),epochs=10,batch_size = 100,verbose = 2)\n",
    "\n",
    "scores = model.evaluate(x_test,y_test,verbose = 0)\n",
    "\n",
    "scores"
   ]
  },
  {
   "cell_type": "markdown",
   "metadata": {},
   "source": [
    "## predict"
   ]
  },
  {
   "cell_type": "code",
   "execution_count": 36,
   "metadata": {},
   "outputs": [
    {
     "data": {
      "text/plain": [
       "1"
      ]
     },
     "execution_count": 36,
     "metadata": {},
     "output_type": "execute_result"
    }
   ],
   "source": [
    "np.argmax(model.predict(x_train[2:3]))"
   ]
  },
  {
   "cell_type": "code",
   "execution_count": 37,
   "metadata": {},
   "outputs": [
    {
     "data": {
      "text/plain": [
       "<matplotlib.image.AxesImage at 0x7fef790c0c88>"
      ]
     },
     "execution_count": 37,
     "metadata": {},
     "output_type": "execute_result"
    },
    {
     "data": {
      "image/png": "[encoded data removed]",
      "text/plain": [
       "<Figure size 432x288 with 1 Axes>"
      ]
     },
     "metadata": {
      "needs_background": "light"
     },
     "output_type": "display_data"
    }
   ],
   "source": [
    "plt.imshow(x_train[2].reshape(28,28))"
   ]
  },
  {
   "cell_type": "code",
   "execution_count": 38,
   "metadata": {},
   "outputs": [],
   "source": [
    "def validInput(my_img,gray=True): ### gray scscle input\n",
    "    if not gray:\n",
    "        my_img = cv2.cvtColor(my_img,cv2.COLOR_BGR2GRAY)\n",
    "    my_img = cv2.resize(my_img,(28,28))\n",
    "    my_img = my_img.reshape(1,28,28,1).astype('float32') /255\n",
    "    return my_img\n",
    "\n",
    "def getClass(res):\n",
    "    my_class = {\n",
    "        0:'circle',\n",
    "        1:'square',\n",
    "        2:'star',\n",
    "        3:'triangle'\n",
    "    }\n",
    "    return my_class[np.argmax(res)]"
   ]
  },
  {
   "cell_type": "code",
   "execution_count": 39,
   "metadata": {},
   "outputs": [
    {
     "name": "stdout",
     "output_type": "stream",
     "text": [
      "triangle\n"
     ]
    }
   ],
   "source": [
    "my_img = cv2.imread('shapes/triangle/0.png',cv2.IMREAD_GRAYSCALE)\n",
    "\n",
    "my_img = validInput(my_img)\n",
    "\n",
    "res = model.predict(my_img)\n",
    "\n",
    "print(getClass(res))"
   ]
  },
  {
   "cell_type": "code",
   "execution_count": 40,
   "metadata": {},
   "outputs": [],
   "source": [
    "my_img = cv2.imread('shapes/triangle/0.png',cv2.IMREAD_GRAYSCALE)\n",
    "cv2.imshow(\"frame\",my_img)\n",
    "cv2.waitKey()\n",
    "cv2.destroyAllWindows()"
   ]
  },
  {
   "cell_type": "markdown",
   "metadata": {},
   "source": [
    "## Video"
   ]
  },
  {
   "cell_type": "code",
   "execution_count": 55,
   "metadata": {},
   "outputs": [],
   "source": [
    "def recognize(frame):\n",
    "    img = validInput(frame,False)\n",
    "    res = getClass(model.predict(img))\n",
    "    return res"
   ]
  },
  {
   "cell_type": "code",
   "execution_count": 56,
   "metadata": {},
   "outputs": [],
   "source": [
    "import time, threading\n",
    "\n",
    "video = 'test.mp4'\n",
    "cap = cv2.VideoCapture(video)\n",
    "# _,frame = cap.read()\n",
    "# td = threading.Thread(target = recognize,args=(frame,))\n",
    "# td.start()\n",
    "while cap.isOpened():\n",
    "    ret,frame = cap.read()\n",
    "    if not ret:\n",
    "        break\n",
    "    frame = cv2.resize(frame,(640,480))\n",
    "    my_frame = frame[:,180:450]\n",
    "    #print(\"size\",frame.shape)\n",
    "    res = recognize(my_frame)\n",
    "    cv2.putText(frame,res,(150,150),cv2.FONT_HERSHEY_SIMPLEX,2,(0,255,0),2)\n",
    "    cv2.imshow(\"Test\",frame)\n",
    "    k = cv2.waitKey(1)\n",
    "    #time.sleep(0.1)\n",
    "    if k==27:\n",
    "        break\n",
    "cap.release()\n",
    "cv2.destroyAllWindows()"
   ]
  },
  {
   "cell_type": "code",
   "execution_count": null,
   "metadata": {},
   "outputs": [],
   "source": []
  }
 ],
 "metadata": {
  "kernelspec": {
   "display_name": "Python 3",
   "language": "python",
   "name": "python3"
  },
  "language_info": {
   "codemirror_mode": {
    "name": "ipython",
    "version": 3
   },
   "file_extension": ".py",
   "mimetype": "text/x-python",
   "name": "python",
   "nbconvert_exporter": "python",
   "pygments_lexer": "ipython3",
   "version": "3.6.7"
  }
 },
 "nbformat": 4,
 "nbformat_minor": 2
}
